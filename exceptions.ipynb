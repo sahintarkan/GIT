{
  "cells": [
    {
      "cell_type": "markdown",
      "metadata": {
        "id": "view-in-github",
        "colab_type": "text"
      },
      "source": [
        "<a href=\"https://colab.research.google.com/github/sahintarkan/GIT/blob/main/exceptions.ipynb\" target=\"_parent\"><img src=\"https://colab.research.google.com/assets/colab-badge.svg\" alt=\"Open In Colab\"/></a>"
      ]
    },
    {
      "cell_type": "markdown",
      "id": "108eb14e",
      "metadata": {
        "id": "108eb14e"
      },
      "source": [
        "try :\n",
        "    code block to be normally executed (muhtemel hata alınacaksa try bloğunun altına alınır. Hata almazsa devam eder. Eğer hata ilk sırada değil de ilerleyen satırlarda gelirse baştakilerini çalıştırır hatanın olduğu yerde except bloğuna geçer.)\n",
        "except :\n",
        "    code block to be exceptionally executed (Eğer try bloğunda hata oluşursa except bloğuna girer. Hata olmazsa girmez!.)\n",
        "    "
      ]
    },
    {
      "cell_type": "markdown",
      "id": "e42bf3c3",
      "metadata": {
        "id": "e42bf3c3"
      },
      "source": [
        "# Hata Kodlarının Hiyerarşisi\n",
        "\n",
        "https://docs.python.org/3/library/exceptions.html#exception-hierarchy \n"
      ]
    },
    {
      "cell_type": "code",
      "execution_count": null,
      "id": "213b7c46",
      "metadata": {
        "id": "213b7c46",
        "outputId": "506ebd6d-6687-487b-8a01-59b30913a92d"
      },
      "outputs": [
        {
          "name": "stdout",
          "output_type": "stream",
          "text": [
            "hello world\n",
            "hello world\n",
            "hello world\n",
            "hello world\n",
            "hello world\n",
            "hello world\n",
            "hello world\n"
          ]
        },
        {
          "ename": "ZeroDivisionError",
          "evalue": "division by zero",
          "output_type": "error",
          "traceback": [
            "\u001b[1;31m---------------------------------------------------------------------------\u001b[0m",
            "\u001b[1;31mZeroDivisionError\u001b[0m                         Traceback (most recent call last)",
            "\u001b[1;32m<ipython-input-1-b6123ee5e604>\u001b[0m in \u001b[0;36m<module>\u001b[1;34m\u001b[0m\n\u001b[0;32m      6\u001b[0m \u001b[0mprint\u001b[0m\u001b[1;33m(\u001b[0m\u001b[1;34m\"hello world\"\u001b[0m\u001b[1;33m)\u001b[0m\u001b[1;33m\u001b[0m\u001b[1;33m\u001b[0m\u001b[0m\n\u001b[0;32m      7\u001b[0m \u001b[0mprint\u001b[0m\u001b[1;33m(\u001b[0m\u001b[1;34m\"hello world\"\u001b[0m\u001b[1;33m)\u001b[0m\u001b[1;33m\u001b[0m\u001b[1;33m\u001b[0m\u001b[0m\n\u001b[1;32m----> 8\u001b[1;33m \u001b[1;36m2\u001b[0m\u001b[1;33m/\u001b[0m\u001b[1;36m0\u001b[0m\u001b[1;33m\u001b[0m\u001b[1;33m\u001b[0m\u001b[0m\n\u001b[0m\u001b[0;32m      9\u001b[0m \u001b[0mprint\u001b[0m\u001b[1;33m(\u001b[0m\u001b[1;34m\"hello world\"\u001b[0m\u001b[1;33m)\u001b[0m\u001b[1;33m\u001b[0m\u001b[1;33m\u001b[0m\u001b[0m\n\u001b[0;32m     10\u001b[0m \u001b[0mprint\u001b[0m\u001b[1;33m(\u001b[0m\u001b[1;34m\"hello world\"\u001b[0m\u001b[1;33m)\u001b[0m\u001b[1;33m\u001b[0m\u001b[1;33m\u001b[0m\u001b[0m\n",
            "\u001b[1;31mZeroDivisionError\u001b[0m: division by zero"
          ]
        }
      ],
      "source": [
        "print(\"hello world\")\n",
        "print(\"hello world\")\n",
        "print(\"hello world\")\n",
        "print(\"hello world\")\n",
        "print(\"hello world\")\n",
        "print(\"hello world\")\n",
        "print(\"hello world\")\n",
        "2/0                         # exception hatası olduğu için hata çıkana kadar kod çalışır.\n",
        "print(\"hello world\")        # syntaxerror olsaydı hiç çalışmazdı.\n",
        "print(\"hello world\")\n",
        "print(\"hello world\")\n"
      ]
    },
    {
      "cell_type": "code",
      "execution_count": null,
      "id": "7f60e875",
      "metadata": {
        "id": "7f60e875",
        "outputId": "4f87f1ed-4b3e-4316-903a-2adf19c48276"
      },
      "outputs": [
        {
          "name": "stdout",
          "output_type": "stream",
          "text": [
            "The first number please :8\n",
            "The second number please :0\n"
          ]
        },
        {
          "ename": "ZeroDivisionError",
          "evalue": "division by zero",
          "output_type": "error",
          "traceback": [
            "\u001b[1;31m---------------------------------------------------------------------------\u001b[0m",
            "\u001b[1;31mZeroDivisionError\u001b[0m                         Traceback (most recent call last)",
            "\u001b[1;32m<ipython-input-2-70d10fc04541>\u001b[0m in \u001b[0;36m<module>\u001b[1;34m\u001b[0m\n\u001b[0;32m      2\u001b[0m     \u001b[0mno_one\u001b[0m \u001b[1;33m=\u001b[0m \u001b[0mint\u001b[0m\u001b[1;33m(\u001b[0m\u001b[0minput\u001b[0m\u001b[1;33m(\u001b[0m\u001b[1;34m\"The first number please :\"\u001b[0m\u001b[1;33m)\u001b[0m\u001b[1;33m)\u001b[0m\u001b[1;33m\u001b[0m\u001b[1;33m\u001b[0m\u001b[0m\n\u001b[0;32m      3\u001b[0m     \u001b[0mno_two\u001b[0m \u001b[1;33m=\u001b[0m \u001b[0mint\u001b[0m\u001b[1;33m(\u001b[0m\u001b[0minput\u001b[0m\u001b[1;33m(\u001b[0m\u001b[1;34m\"The second number please :\"\u001b[0m\u001b[1;33m)\u001b[0m\u001b[1;33m)\u001b[0m\u001b[1;33m\u001b[0m\u001b[1;33m\u001b[0m\u001b[0m\n\u001b[1;32m----> 4\u001b[1;33m     \u001b[0mdivision\u001b[0m \u001b[1;33m=\u001b[0m \u001b[0mno_one\u001b[0m \u001b[1;33m/\u001b[0m \u001b[0mno_two\u001b[0m\u001b[1;33m\u001b[0m\u001b[1;33m\u001b[0m\u001b[0m\n\u001b[0m\u001b[0;32m      5\u001b[0m     \u001b[0mprint\u001b[0m\u001b[1;33m(\u001b[0m\u001b[1;34m\"The result of the division is : \"\u001b[0m\u001b[1;33m,\u001b[0m \u001b[0mdivision\u001b[0m\u001b[1;33m)\u001b[0m\u001b[1;33m\u001b[0m\u001b[1;33m\u001b[0m\u001b[0m\n\u001b[0;32m      6\u001b[0m     \u001b[1;32mbreak\u001b[0m\u001b[1;33m\u001b[0m\u001b[1;33m\u001b[0m\u001b[0m\n",
            "\u001b[1;31mZeroDivisionError\u001b[0m: division by zero"
          ]
        }
      ],
      "source": [
        "while True:\n",
        "    no_one = int(input(\"The first number please :\"))\n",
        "    no_two = int(input(\"The second number please :\"))  # no_two a 0 verirsek ZeroDivisionError hatası alırız. \n",
        "    division = no_one / no_two\n",
        "    print(\"The result of the division is : \", division)\n",
        "    break"
      ]
    },
    {
      "cell_type": "code",
      "execution_count": null,
      "id": "ef0667fc",
      "metadata": {
        "id": "ef0667fc",
        "outputId": "3bdfb506-f263-4df9-986d-da82e03e3c58"
      },
      "outputs": [
        {
          "name": "stdout",
          "output_type": "stream",
          "text": [
            "birinci satır\n",
            "bir şeyler ters gitti\n"
          ]
        }
      ],
      "source": [
        "try : \n",
        "    print(\"birinci satır\")  # hatadan önce olduğu için çalıştı.\n",
        "    x = 2/0\n",
        "    print(\"bende sıkıntı yokmuş demekki. bak çalıştım.\")\n",
        "except :\n",
        "    print(\"bir şeyler ters gitti\")"
      ]
    },
    {
      "cell_type": "code",
      "execution_count": null,
      "id": "5d4bb423",
      "metadata": {
        "id": "5d4bb423",
        "outputId": "f041c2a2-7fa6-4011-9bfc-8c368b6ede81"
      },
      "outputs": [
        {
          "name": "stdout",
          "output_type": "stream",
          "text": [
            "birinci satır\n",
            "bende sıkıntı yokmuş demekki. bak çalıştım.\n",
            "1.0\n"
          ]
        }
      ],
      "source": [
        "try : \n",
        "    print(\"birinci satır\")  \n",
        "    x = 2/2\n",
        "    print(\"bende sıkıntı yokmuş demekki. bak çalıştım.\")\n",
        "    print(x)\n",
        "except :   # hata olmadığı için except bloğunu çalıştırmaz.\n",
        "    print(\"bir şeyler ters gitti\")"
      ]
    },
    {
      "cell_type": "code",
      "execution_count": null,
      "id": "53b0b9ba",
      "metadata": {
        "id": "53b0b9ba",
        "outputId": "fa842cc0-12f0-4e21-f8fd-fee9bf51ce49"
      },
      "outputs": [
        {
          "name": "stdout",
          "output_type": "stream",
          "text": [
            "The first number please : 8\n",
            "The second number please : 0\n",
            "Something went wrong...Try again.\n"
          ]
        }
      ],
      "source": [
        "while True:\n",
        "    no_one = int(input(\"The first number please : \"))\n",
        "    no_two = int(input(\"The second number please : \"))\n",
        "    try:\n",
        "        division = no_one / no_two\n",
        "        print(\"The result of the division is : \", division)\n",
        "        break\n",
        "    except :\n",
        "        print(\"Something went wrong...Try again.\")\n",
        "        break"
      ]
    },
    {
      "cell_type": "code",
      "execution_count": null,
      "id": "435abbe6",
      "metadata": {
        "id": "435abbe6",
        "outputId": "f34eb700-9ea6-4c67-9beb-e624ce727604"
      },
      "outputs": [
        {
          "name": "stdout",
          "output_type": "stream",
          "text": [
            "The first number please : 8\n",
            "The second number please : 0\n",
            "Something went wrong...Try again.\n"
          ]
        }
      ],
      "source": [
        "while True:\n",
        "    no_one = int(input(\"The first number please : \"))\n",
        "    no_two = int(input(\"The second number please : \"))\n",
        "    try:\n",
        "        division = no_one / no_two\n",
        "        print(\"The result of the division is : \", division)\n",
        "        break\n",
        "    except ZeroDivisionError :   # hata belirtebiliriz. Birdem fazla except bloğu ile if-elif yapısı gibi \n",
        "        print(\"You can't divide 0 \")                                         # bir yapı oluşturabiliriz.\n",
        "        break"
      ]
    },
    {
      "cell_type": "markdown",
      "id": "31f89cd9",
      "metadata": {
        "id": "31f89cd9"
      },
      "source": [
        "Try =>  Hata olabilecek bir blok test edilir.\n",
        "Except => try bloğunda hata olursa buraya girer. Spesifik olarak hata kodu belirtebiliriz. Eğer belirttiğimiz hatayı alacak olursak except bloğu çalışır. Birden çok except bloğu alıp farklı hata kodlarında farklı işlemler yaptırabiliriz.\n",
        "Else => Try da hiç hata olmazsa else bloğu çalışır.\n",
        "Finally => her durumda çalışır."
      ]
    },
    {
      "cell_type": "code",
      "execution_count": null,
      "id": "86a4b131",
      "metadata": {
        "id": "86a4b131",
        "outputId": "f58827e4-ae81-41c4-bcf3-ae86c64e010d"
      },
      "outputs": [
        {
          "name": "stdout",
          "output_type": "stream",
          "text": [
            "The first number please : 5\n",
            "The second number please : 5\n",
            "The result of the division is :  1.0\n",
            "Thanks for using our mini divison calculator! Come again!\n"
          ]
        }
      ],
      "source": [
        "while True:\n",
        "    no_one = int(input(\"The first number please : \"))\n",
        "    no_two = int(input(\"The second number please : \"))\n",
        "    try:\n",
        "        division = no_one / no_two  # normal part of the program\n",
        "    except ZeroDivisionError:\n",
        "        print(\"You can't divide by zero! Try again.\")  # executes when division by zero\n",
        "    else:\n",
        "        print(\"The result of the division is : \", division)  # executes if there is no exception\n",
        "    finally:\n",
        "        print(\"Thanks for using our mini divison calculator! Come again!\")\n",
        "        break  # exits the while loop"
      ]
    },
    {
      "cell_type": "code",
      "execution_count": null,
      "id": "46906583",
      "metadata": {
        "id": "46906583",
        "outputId": "2a6d7016-be38-45a6-a1f1-0fd466f07109"
      },
      "outputs": [
        {
          "name": "stdout",
          "output_type": "stream",
          "text": [
            "The first number please : 5\n",
            "The second number please : beş\n",
            "Thanks for using our mini divison calculator! Come again!\n"
          ]
        }
      ],
      "source": [
        "while True:\n",
        "    try :\n",
        "        no_one = int(input(\"The first number please : \"))\n",
        "        no_two = int(input(\"The second number please : \"))\n",
        "    \n",
        "        division = no_one / no_two  # normal part of the program\n",
        "    except ZeroDivisionError:\n",
        "        print(\"You can't divide by zero! Try again.\")  # executes when division by zero\n",
        "    else:   # try bloğu hatasız çalışmadığı için else bloğuna girmedi.\n",
        "        print(\"The result of the division is : \", division)  # executes if there is no exception\n",
        "    finally:\n",
        "        print(\"Thanks for using our mini divison calculator! Come again!\")\n",
        "        break  # exits the while loop   # eğer finally altında break, continue yoksa hata verir!!!!!!!!!!"
      ]
    },
    {
      "cell_type": "code",
      "execution_count": null,
      "id": "e3884d56",
      "metadata": {
        "id": "e3884d56",
        "outputId": "746cd348-605a-4086-d7f3-2e9c49290f60"
      },
      "outputs": [
        {
          "name": "stdout",
          "output_type": "stream",
          "text": [
            "The first number please : 5\n",
            "The second number please : 0\n",
            "The exception that raised is :  division by zero\n"
          ]
        }
      ],
      "source": [
        "while True:\n",
        "    no_one = int(input(\"The first number please : \"))\n",
        "    no_two = int(input(\"The second number please : \"))\n",
        "    try:\n",
        "        division = no_one / no_two\n",
        "        print(\"The result of the division is : \", division)\n",
        "        break\n",
        "    except Exception as fırfırik :   # hatayı değişkene atadık. Hangi exception'un geldiğini kayıt altına alabiliriz.\n",
        "        print(\"The exception that raised is : \", fırfırik)                                    # veya yazdırabiliriz.\n",
        "        break                                              # exception dönen değeri string olur. !!!!!!!!!!!!"
      ]
    },
    {
      "cell_type": "code",
      "execution_count": null,
      "id": "0c3bb745",
      "metadata": {
        "id": "0c3bb745",
        "outputId": "36ee3902-543c-4000-bb82-d24c4e8b5843"
      },
      "outputs": [
        {
          "name": "stdout",
          "output_type": "stream",
          "text": [
            "The first number please : 5\n",
            "The second number please : beş\n",
            "The exception that raised is :  invalid literal for int() with base 10: 'beş'\n"
          ]
        }
      ],
      "source": [
        "while True:\n",
        "    try :\n",
        "        no_one = int(input(\"The first number please : \"))\n",
        "        no_two = int(input(\"The second number please : \"))\n",
        "    \n",
        "        division = no_one / no_two\n",
        "        print(\"The result of the division is : \", division)\n",
        "        break\n",
        "    except Exception as fırfırik :                         # hata mesajının yanında yazan mesajı verir...\n",
        "        print(\"The exception that raised is : \", fırfırik)                                    \n",
        "        break                                              "
      ]
    },
    {
      "cell_type": "code",
      "execution_count": null,
      "id": "7c61e834",
      "metadata": {
        "id": "7c61e834",
        "outputId": "bd2e4cf5-86c2-4443-9e2b-7eebed04feb5"
      },
      "outputs": [
        {
          "name": "stdout",
          "output_type": "stream",
          "text": [
            "The error message is :  name 'c' is not defined\n"
          ]
        }
      ],
      "source": [
        "try :\n",
        "    a = 10\n",
        "    b = 2\n",
        "    print(\"The result of division is : \", c)\n",
        "except Exception as e :\n",
        "    print(\"The error message is : \", e)    # farklı bir örnek... NameError sonucu"
      ]
    },
    {
      "cell_type": "code",
      "execution_count": null,
      "id": "8474627e",
      "metadata": {
        "scrolled": true,
        "id": "8474627e",
        "outputId": "796a7e34-8a06-4e1f-e18d-f2e0943110c4"
      },
      "outputs": [
        {
          "ename": "NameError",
          "evalue": "name 'e' is not defined",
          "output_type": "error",
          "traceback": [
            "\u001b[1;31m---------------------------------------------------------------------------\u001b[0m",
            "\u001b[1;31mNameError\u001b[0m                                 Traceback (most recent call last)",
            "\u001b[1;32m<ipython-input-21-094e3afb2fe8>\u001b[0m in \u001b[0;36m<module>\u001b[1;34m\u001b[0m\n\u001b[1;32m----> 1\u001b[1;33m \u001b[0me\u001b[0m\u001b[1;33m\u001b[0m\u001b[1;33m\u001b[0m\u001b[0m\n\u001b[0m",
            "\u001b[1;31mNameError\u001b[0m: name 'e' is not defined"
          ]
        }
      ],
      "source": [
        "e   # sadece try-except içerisinde kalır dışarıda kullanılamaz..."
      ]
    },
    {
      "cell_type": "code",
      "execution_count": 1,
      "id": "c1722506",
      "metadata": {
        "colab": {
          "base_uri": "https://localhost:8080/"
        },
        "id": "c1722506",
        "outputId": "c0e43293-ef80-4807-f2b2-9b82ff851e5f"
      },
      "outputs": [
        {
          "output_type": "stream",
          "name": "stdout",
          "text": [
            "else çalıştı\n",
            "her olasılıkta çalışır. Örneğin açık dosyayı kapatmak için kullanılabilir\n"
          ]
        }
      ],
      "source": [
        "try :\n",
        "    x = 4/ 1\n",
        "except:\n",
        "    print(\"Somthing went wrong\")\n",
        "else :\n",
        "    print(\"else çalıştı\")\n",
        "finally :\n",
        "    print(\"her olasılıkta çalışır. Örneğin açık dosyayı kapatmak için kullanılabilir\")"
      ]
    },
    {
      "cell_type": "code",
      "execution_count": null,
      "id": "3702ce8e",
      "metadata": {
        "id": "3702ce8e",
        "outputId": "8b668463-4521-4ccb-a7f8-c3482ca85f2e"
      },
      "outputs": [
        {
          "name": "stdout",
          "output_type": "stream",
          "text": [
            "You are trying to divide by zero\n"
          ]
        }
      ],
      "source": [
        "try :\n",
        "    x = 2 / 0\n",
        "\n",
        "except ZeroDivisionError :\n",
        "    print(\"You are trying to divide by zero\")\n",
        "except :\n",
        "    print(\"Someting went wrong..\")"
      ]
    },
    {
      "cell_type": "code",
      "execution_count": null,
      "id": "2f7008aa",
      "metadata": {
        "id": "2f7008aa",
        "outputId": "898c6af6-8ab4-4d33-96a4-16b692908bb2"
      },
      "outputs": [
        {
          "name": "stdout",
          "output_type": "stream",
          "text": [
            "Someting went wrong..\n"
          ]
        }
      ],
      "source": [
        "try :\n",
        "    x  \n",
        "\n",
        "except ZeroDivisionError :\n",
        "    print(\"You are trying to divide by zero\")\n",
        "except :\n",
        "    print(\"Someting went wrong..\")"
      ]
    },
    {
      "cell_type": "code",
      "execution_count": null,
      "id": "3354da77",
      "metadata": {
        "id": "3354da77",
        "outputId": "36431220-d599-45aa-aae7-f225394545ad"
      },
      "outputs": [
        {
          "name": "stdout",
          "output_type": "stream",
          "text": [
            "Wrong is related to name error.\n"
          ]
        }
      ],
      "source": [
        "try :\n",
        "    x  \n",
        "\n",
        "except ZeroDivisionError :\n",
        "    print(\"You are trying to divide by zero\")\n",
        "except NameError :\n",
        "    print(\"Wrong is related to name error.\") # bu çalıştı\n",
        "except :\n",
        "    print(\"Someting went wrong..\")  # diğer exceptler çalışmazsa bu çalışırdı.."
      ]
    },
    {
      "cell_type": "code",
      "execution_count": null,
      "id": "00489345",
      "metadata": {
        "id": "00489345",
        "outputId": "5686ab16-82c0-4b2d-e47d-77ca2bdf52f6"
      },
      "outputs": [
        {
          "name": "stdout",
          "output_type": "stream",
          "text": [
            "Someting went wrong..\n"
          ]
        }
      ],
      "source": [
        "try :\n",
        "    x = int(\"on\")\n",
        "\n",
        "except ZeroDivisionError :\n",
        "    print(\"You are trying to divide by zero\")\n",
        "except NameError :\n",
        "    print(\"Wrong is related to name error.\") \n",
        "except :                               # öndeki değerlendirmeler çalışmadığı için çalıştı..\n",
        "    print(\"Someting went wrong..\")  "
      ]
    },
    {
      "cell_type": "code",
      "execution_count": null,
      "id": "2018e00f",
      "metadata": {
        "id": "2018e00f",
        "outputId": "17c6aeea-b4a9-4a39-c26e-b28b618ed4d6"
      },
      "outputs": [
        {
          "name": "stdout",
          "output_type": "stream",
          "text": [
            "ValueError or TypeError raised.\n"
          ]
        }
      ],
      "source": [
        "try :\n",
        "    x = int(\"on\")\n",
        "\n",
        "except ZeroDivisionError :\n",
        "    print(\"You are trying to divide by zero\")\n",
        "except NameError :\n",
        "    print(\"Wrong is related to name error.\") \n",
        "except (ValueError, TypeError) :\n",
        "    print(\"ValueError or TypeError raised.\")\n",
        "except :                               \n",
        "    print(\"Someting went wrong..\")  "
      ]
    },
    {
      "cell_type": "code",
      "execution_count": null,
      "id": "92f12b23",
      "metadata": {
        "id": "92f12b23",
        "outputId": "19967ad3-930e-4a57-b1bb-67a64e9c714c"
      },
      "outputs": [
        {
          "name": "stdout",
          "output_type": "stream",
          "text": [
            "ValueError or TypeError raised.\n"
          ]
        }
      ],
      "source": [
        "try :\n",
        "    4 + \"4\"\n",
        "\n",
        "except ZeroDivisionError :\n",
        "    print(\"You are trying to divide by zero\")\n",
        "except NameError :\n",
        "    print(\"Wrong is related to name error.\") \n",
        "except (ValueError, TypeError) :\n",
        "    print(\"ValueError or TypeError raised.\")\n",
        "except :                               \n",
        "    print(\"Someting went wrong..\")  "
      ]
    },
    {
      "cell_type": "code",
      "execution_count": null,
      "id": "559eb441",
      "metadata": {
        "id": "559eb441",
        "outputId": "97bc485f-770a-44fb-c0e9-6ea798df1c04"
      },
      "outputs": [
        {
          "name": "stdout",
          "output_type": "stream",
          "text": [
            "You are trying to divide by zero\n"
          ]
        }
      ],
      "source": [
        "try :\n",
        "    4 / 0\n",
        "\n",
        "except ArithmeticError :   # AritmaticError ZeroDivision u kapsıyor başta link var oradan bak....\n",
        "    print(\"You are trying to divide by zero\")\n",
        "except NameError :\n",
        "    print(\"Wrong is related to name error.\") \n",
        "except (ValueError, TypeError) :\n",
        "    print(\"ValueError or TypeError raised.\")\n",
        "except :                               \n",
        "    print(\"Someting went wrong..\")  "
      ]
    },
    {
      "cell_type": "code",
      "execution_count": null,
      "id": "09c695a6",
      "metadata": {
        "id": "09c695a6",
        "outputId": "c98ff3e3-faba-43bd-9bb3-82778b2b7105"
      },
      "outputs": [
        {
          "name": "stdout",
          "output_type": "stream",
          "text": [
            "['banana', 'mango', 'pear', 'apple', 'kiwi', 'grape']\n",
            "Select your favorite index : 46\n",
            "Please select max. lenght list\n",
            "['banana', 'mango', 'pear', 'apple', 'kiwi', 'grape']\n",
            "Select your favorite index : 4\n",
            "My favorite fruit is  kiwi\n"
          ]
        }
      ],
      "source": [
        "while True :                     # benim çözüm....\n",
        "    try :\n",
        "        fruits = [\"banana\", \"mango\", \"pear\", \"apple\", \"kiwi\", \"grape\"]\n",
        "        print(fruits)\n",
        "        select = int(input(\"Select your favorite index : \"))\n",
        "        print(\"My favorite fruit is \", fruits[select])\n",
        "        break\n",
        "    except ValueError:\n",
        "        print(\"Please select int.\")\n",
        "    except IndexError :\n",
        "        print(\"Please select max. lenght list\")"
      ]
    },
    {
      "cell_type": "code",
      "execution_count": null,
      "id": "9ccbe9b1",
      "metadata": {
        "id": "9ccbe9b1"
      },
      "outputs": [],
      "source": [
        "fruits = [\"banana\", \"mango\", \"pear\", \"apple\", \"kiwi\", \"grape\"]"
      ]
    },
    {
      "cell_type": "code",
      "execution_count": null,
      "id": "ccf2777f",
      "metadata": {
        "id": "ccf2777f",
        "outputId": "133afdef-5641-480b-b633-a6e5fc1f4b5a"
      },
      "outputs": [
        {
          "name": "stdout",
          "output_type": "stream",
          "text": [
            "pick an index number :beş\n",
            "You should enter integer. Try again!\n",
            "pick an index number :5\n",
            "Your favorite fruit is :  grape\n"
          ]
        }
      ],
      "source": [
        "while True :\n",
        "    try :\n",
        "        index = int(input(\"pick an index number :\"))\n",
        "        print(\"Your favorite fruit is : \", fruits[index])\n",
        "        break\n",
        "    except IndexError :\n",
        "        print(\"There is no such an index. Try again!\")\n",
        "    except ValueError :\n",
        "        print(\"You should enter integer. Try again!\")"
      ]
    },
    {
      "cell_type": "code",
      "execution_count": null,
      "id": "d2c617e5",
      "metadata": {
        "id": "d2c617e5",
        "outputId": "adb9c485-4243-4650-e2cd-7bb3d2a5b8cf"
      },
      "outputs": [
        {
          "name": "stdout",
          "output_type": "stream",
          "text": [
            "Enter index : 8\n",
            "<warning message>, you have 2 right left. Try again!\n",
            "Our fruits are always fresh\n",
            "Enter index : 7\n",
            "<warning message>, you have 1 right left. Try again!\n",
            "Our fruits are always fresh\n",
            "Enter index : beş\n",
            "<warning message>, you have 0 right left. Try again!\n",
            "Our fruits are always fresh\n",
            "Our fruits are always fresh\n"
          ]
        }
      ],
      "source": [
        "fruits = [\"banana\", \"mango\", \"pear\", \"apple\", \"kiwi\", \"grape\"]  # benim çözüm....\n",
        "counter = 3\n",
        "while True:\n",
        "    try :\n",
        "        if counter == 0 :\n",
        "            break\n",
        "        index = int(input(\"Enter index : \"))\n",
        "        print(\"Your favorite fruit is : \", fruits[index])\n",
        "        print(\"Congrats! You've entered a valid input.\")\n",
        "            \n",
        "    except :\n",
        "        counter -= 1\n",
        "        print(f\"<warning message>, you have {counter} right left. Try again!\")\n",
        "    else : \n",
        "        break\n",
        "    finally :\n",
        "        print(\"Our fruits are always fresh\")  "
      ]
    },
    {
      "cell_type": "code",
      "execution_count": null,
      "id": "5026f03a",
      "metadata": {
        "id": "5026f03a",
        "outputId": "a0e0e52e-4d50-4d55-d1ae-878478ca11f7"
      },
      "outputs": [
        {
          "name": "stdout",
          "output_type": "stream",
          "text": [
            " You have 3 right.\n",
            "Pick an index number : 6\n",
            "Index error raised. You have 2 right left. Try Again.\n",
            "Our fruits are always fresh!\n",
            " You have 2 right.\n",
            "Pick an index number : 4\n",
            "Your favoritte fruit is :  kiwi\n",
            "Congrats! You've entered valid input.\n",
            "Our fruits are always fresh!\n"
          ]
        }
      ],
      "source": [
        "counter = 3\n",
        "\n",
        "while counter > 0 :\n",
        "    \n",
        "    try :\n",
        "        print(f\" You have {counter} right.\")\n",
        "        index = int(input(\"Pick an index number : \"))\n",
        "        print(\"Your favoritte fruit is : \", fruits[index])\n",
        "        \n",
        "    except IndexError :\n",
        "        counter -= 1\n",
        "        print(f\"Index error raised. You have {counter} right left. Try Again.\")\n",
        "        \n",
        "    except ValueError :\n",
        "        counter -= 1\n",
        "        print(f\"Value error raised. You have {counter} right left. Try Again.\")\n",
        "        \n",
        "    else :\n",
        "        print(\"Congrats! You've entered valid input.\")\n",
        "        break\n",
        "    \n",
        "    finally :\n",
        "        print(\"Our fruits are always fresh!\")"
      ]
    },
    {
      "cell_type": "markdown",
      "id": "159db611",
      "metadata": {
        "id": "159db611"
      },
      "source": [
        "# Assignment Letter Count"
      ]
    },
    {
      "cell_type": "markdown",
      "id": "803d4e52",
      "metadata": {
        "id": "803d4e52"
      },
      "source": [
        "# Bu da benim çözüm \n",
        "https://github.com/whathy/Pyhon/blob/master/Assignments/003_Letter_Count.py    \n"
      ]
    },
    {
      "cell_type": "code",
      "execution_count": null,
      "id": "9cadfcd7",
      "metadata": {
        "id": "9cadfcd7"
      },
      "outputs": [],
      "source": [
        "word = {1 : \"1\", 2 : \"2\"}"
      ]
    },
    {
      "cell_type": "code",
      "execution_count": null,
      "id": "be596ef2",
      "metadata": {
        "id": "be596ef2",
        "outputId": "d66abb72-64b8-4d28-a82e-72ed6d20b71e"
      },
      "outputs": [
        {
          "data": {
            "text/plain": [
              "{1: '1', 2: '2'}"
            ]
          },
          "execution_count": 8,
          "metadata": {},
          "output_type": "execute_result"
        }
      ],
      "source": [
        "word"
      ]
    },
    {
      "cell_type": "code",
      "execution_count": null,
      "id": "91d347d6",
      "metadata": {
        "id": "91d347d6"
      },
      "outputs": [],
      "source": [
        "keys = word.keys()"
      ]
    },
    {
      "cell_type": "code",
      "execution_count": null,
      "id": "377cfe8c",
      "metadata": {
        "id": "377cfe8c",
        "outputId": "0ebb2824-0152-4113-9ff2-75c8ade9d5ce"
      },
      "outputs": [
        {
          "data": {
            "text/plain": [
              "dict_keys([1, 2])"
            ]
          },
          "execution_count": 10,
          "metadata": {},
          "output_type": "execute_result"
        }
      ],
      "source": [
        "keys"
      ]
    },
    {
      "cell_type": "code",
      "execution_count": null,
      "id": "aaaa894b",
      "metadata": {
        "id": "aaaa894b"
      },
      "outputs": [],
      "source": [
        "wordd = {}"
      ]
    },
    {
      "cell_type": "code",
      "execution_count": null,
      "id": "6a12719c",
      "metadata": {
        "id": "6a12719c"
      },
      "outputs": [],
      "source": [
        "wordd[\"e\"] = 1"
      ]
    },
    {
      "cell_type": "code",
      "execution_count": null,
      "id": "863d58a1",
      "metadata": {
        "id": "863d58a1",
        "outputId": "001c73ad-dc92-4adb-a944-ecead06bebde"
      },
      "outputs": [
        {
          "data": {
            "text/plain": [
              "{'e': 1}"
            ]
          },
          "execution_count": 13,
          "metadata": {},
          "output_type": "execute_result"
        }
      ],
      "source": [
        "wordd"
      ]
    },
    {
      "cell_type": "code",
      "execution_count": null,
      "id": "31ac6be8",
      "metadata": {
        "id": "31ac6be8"
      },
      "outputs": [],
      "source": [
        "wordd[\"b\"] = 2"
      ]
    },
    {
      "cell_type": "code",
      "execution_count": null,
      "id": "b7965f21",
      "metadata": {
        "id": "b7965f21",
        "outputId": "9be54cb6-64b7-40c5-ca4d-1151a17024e9"
      },
      "outputs": [
        {
          "data": {
            "text/plain": [
              "{'e': 1, 'b': 2}"
            ]
          },
          "execution_count": 15,
          "metadata": {},
          "output_type": "execute_result"
        }
      ],
      "source": [
        "wordd"
      ]
    },
    {
      "cell_type": "code",
      "execution_count": null,
      "id": "40461472",
      "metadata": {
        "id": "40461472"
      },
      "outputs": [],
      "source": [
        "wordd[\"b\"] = wordd[\"b\"] + 1   # ne kadar çalıştırırsak o kadar artar."
      ]
    },
    {
      "cell_type": "code",
      "execution_count": null,
      "id": "448f8f10",
      "metadata": {
        "id": "448f8f10",
        "outputId": "ab9b9644-c200-47fe-ebbb-a5fb0ccbdcbc"
      },
      "outputs": [
        {
          "data": {
            "text/plain": [
              "{'e': 1, 'b': 3}"
            ]
          },
          "execution_count": 17,
          "metadata": {},
          "output_type": "execute_result"
        }
      ],
      "source": [
        "wordd"
      ]
    },
    {
      "cell_type": "code",
      "execution_count": null,
      "id": "ee1e7e92",
      "metadata": {
        "id": "ee1e7e92",
        "outputId": "a6f7ff30-faed-48bb-b3cb-e95d075c99d2"
      },
      "outputs": [
        {
          "name": "stdout",
          "output_type": "stream",
          "text": [
            "{'b': 1, 'u': 1, 'g': 1, 'ü': 5, 'n': 5, ' ': 8, 'ç': 1, 'o': 3, 'k': 3, 'h': 1, 'z': 1, 'l': 2, 'y': 3, 'm': 1, '.': 5, 'a': 3, 'r': 2, 'ı': 3, '2': 1, 's': 4, 'e': 1, 'i': 1}\n"
          ]
        }
      ],
      "source": [
        "string = \"bugün çok hüzünlüyüm. ayrılık yakın. 2 session sonra ...\"\n",
        "\n",
        "word_dict = {}\n",
        "for n in string :\n",
        "    \n",
        "    if n in word_dict :\n",
        "        word_dict[n] += 1\n",
        "        \n",
        "    else : \n",
        "        word_dict[n] = 1\n",
        "        \n",
        "print(word_dict)"
      ]
    },
    {
      "cell_type": "code",
      "execution_count": null,
      "id": "f957874a",
      "metadata": {
        "id": "f957874a"
      },
      "outputs": [],
      "source": [
        "veri = [\"a\", \"b\", True, (False, 1), {\"1\" : 2}, [1,2], {\"2\" : \"two\"}, {2, \"3\"}, \"c\", 23, 0]\n",
        "tipler = [\"int\", \"str\", \"bool\", \"list\", \"tuple\", \"dict\", \"set\"]"
      ]
    },
    {
      "cell_type": "code",
      "execution_count": null,
      "id": "91b4da70",
      "metadata": {
        "id": "91b4da70",
        "outputId": "e0bce71f-f063-43a9-e7cf-13ac360e0094"
      },
      "outputs": [
        {
          "data": {
            "text/plain": [
              "{'bool': 1, 'int': 2, 'list': 1, 'tuple': 1, 'str': 3}"
            ]
          },
          "execution_count": 20,
          "metadata": {},
          "output_type": "execute_result"
        }
      ],
      "source": [
        "{\"bool\" : 1, \"int\" : 2, \"list\" : 1, \"tuple\" : 1, \"str\" : 3}"
      ]
    },
    {
      "cell_type": "code",
      "execution_count": null,
      "id": "52adabac",
      "metadata": {
        "id": "52adabac",
        "outputId": "f76b9dd9-5a48-4c18-86d5-0bb53def38cc"
      },
      "outputs": [
        {
          "data": {
            "text/plain": [
              "{'int': None,\n",
              " 'str': None,\n",
              " 'bool': None,\n",
              " 'list': None,\n",
              " 'tuple': None,\n",
              " 'dict': None,\n",
              " 'set': None}"
            ]
          },
          "execution_count": 21,
          "metadata": {},
          "output_type": "execute_result"
        }
      ],
      "source": [
        "{}.fromkeys(tipler)   # bir iterable'dan keyler oluşturma"
      ]
    },
    {
      "cell_type": "code",
      "execution_count": null,
      "id": "11a33a75",
      "metadata": {
        "id": "11a33a75",
        "outputId": "1ea864f8-1c65-4403-b5f9-e9923400bda7"
      },
      "outputs": [
        {
          "data": {
            "text/plain": [
              "{'int': True,\n",
              " 'str': True,\n",
              " 'bool': True,\n",
              " 'list': True,\n",
              " 'tuple': True,\n",
              " 'dict': True,\n",
              " 'set': True}"
            ]
          },
          "execution_count": 22,
          "metadata": {},
          "output_type": "execute_result"
        }
      ],
      "source": [
        "{}.fromkeys(tipler, True)    # yanına value'da yazılabilir."
      ]
    },
    {
      "cell_type": "code",
      "execution_count": null,
      "id": "a1bf52a4",
      "metadata": {
        "id": "a1bf52a4",
        "outputId": "c36bf33c-7872-4dc7-8d17-a9c6a88953be"
      },
      "outputs": [
        {
          "data": {
            "text/plain": [
              "{'int': 0, 'str': 0, 'bool': 0, 'list': 0, 'tuple': 0, 'dict': 0, 'set': 0}"
            ]
          },
          "execution_count": 23,
          "metadata": {},
          "output_type": "execute_result"
        }
      ],
      "source": [
        "{}.fromkeys(tipler, 0)"
      ]
    },
    {
      "cell_type": "code",
      "execution_count": null,
      "id": "a64d2135",
      "metadata": {
        "id": "a64d2135"
      },
      "outputs": [],
      "source": [
        "toplam = {}.fromkeys(tipler, 0)"
      ]
    },
    {
      "cell_type": "code",
      "execution_count": null,
      "id": "a221fa04",
      "metadata": {
        "id": "a221fa04",
        "outputId": "eed35531-a559-493d-af11-b2a4d6d1a5e6"
      },
      "outputs": [
        {
          "data": {
            "text/plain": [
              "{'int': 0, 'str': 0, 'bool': 0, 'list': 0, 'tuple': 0, 'dict': 0, 'set': 0}"
            ]
          },
          "execution_count": 25,
          "metadata": {},
          "output_type": "execute_result"
        }
      ],
      "source": [
        "toplam "
      ]
    },
    {
      "cell_type": "code",
      "execution_count": null,
      "id": "480274c9",
      "metadata": {
        "id": "480274c9",
        "outputId": "0f6fb57d-31cd-4590-a85c-410a5d742332"
      },
      "outputs": [
        {
          "data": {
            "text/plain": [
              "list"
            ]
          },
          "execution_count": 26,
          "metadata": {},
          "output_type": "execute_result"
        }
      ],
      "source": [
        "type(veri[5])"
      ]
    },
    {
      "cell_type": "code",
      "execution_count": null,
      "id": "1d114789",
      "metadata": {
        "id": "1d114789",
        "outputId": "8a70e7c3-0450-4471-94e4-47af9ee95131"
      },
      "outputs": [
        {
          "data": {
            "text/plain": [
              "True"
            ]
          },
          "execution_count": 27,
          "metadata": {},
          "output_type": "execute_result"
        }
      ],
      "source": [
        "type(veri[5]) == list"
      ]
    },
    {
      "cell_type": "code",
      "execution_count": null,
      "id": "50b53b22",
      "metadata": {
        "id": "50b53b22"
      },
      "outputs": [],
      "source": [
        "for i in range(len(veri)) :\n",
        "    if type(veri[i]) == int : toplam[\"int\"] += 1\n",
        "    elif type(veri[i]) == str : toplam[\"str\"] += 1\n",
        "    elif type(veri[i]) == bool : toplam[\"bool\"] += 1\n",
        "    elif type(veri[i]) == list : toplam[\"list\"] += 1\n",
        "    elif type(veri[i]) == tuple : toplam[\"tuple\"] += 1\n",
        "    elif type(veri[i]) == dict : toplam[\"dict\"] += 1\n",
        "    elif type(veri[i]) == set : toplam[\"set\"] += 1\n",
        "\n",
        "    "
      ]
    },
    {
      "cell_type": "code",
      "execution_count": null,
      "id": "66e790c6",
      "metadata": {
        "id": "66e790c6",
        "outputId": "b175caee-d615-442a-c13b-81cbe35a6898"
      },
      "outputs": [
        {
          "data": {
            "text/plain": [
              "{'int': 2, 'str': 3, 'bool': 1, 'list': 1, 'tuple': 1, 'dict': 2, 'set': 1}"
            ]
          },
          "execution_count": 29,
          "metadata": {},
          "output_type": "execute_result"
        }
      ],
      "source": [
        "toplam"
      ]
    },
    {
      "cell_type": "code",
      "execution_count": null,
      "id": "c05f6d56",
      "metadata": {
        "id": "c05f6d56"
      },
      "outputs": [],
      "source": [
        "veri = [\"a\", \"b\", True, (False, 1), {\"1\" : 2}, [1,2], {\"2\" : \"two\"}, {2, \"3\"}, \"c\", 23, 0]   # buda toplu hali\n",
        "tipler = [\"int\", \"str\", \"bool\", \"list\", \"tuple\", \"dict\", \"set\"]\n",
        "toplam = {}.fromkeys(tipler, 0)\n",
        "\n",
        "for i in range(len(veri)) :\n",
        "    if type(veri[i]) == int : toplam[\"int\"] += 1\n",
        "    elif type(veri[i]) == str : toplam[\"str\"] += 1\n",
        "    elif type(veri[i]) == bool : toplam[\"bool\"] += 1\n",
        "    elif type(veri[i]) == list : toplam[\"list\"] += 1\n",
        "    elif type(veri[i]) == tuple : toplam[\"tuple\"] += 1\n",
        "    elif type(veri[i]) == dict : toplam[\"dict\"] += 1\n",
        "    elif type(veri[i]) == set : toplam[\"set\"] += 1\n",
        "\n",
        "print(toplam)"
      ]
    }
  ],
  "metadata": {
    "kernelspec": {
      "display_name": "Python 3",
      "language": "python",
      "name": "python3"
    },
    "language_info": {
      "codemirror_mode": {
        "name": "ipython",
        "version": 3
      },
      "file_extension": ".py",
      "mimetype": "text/x-python",
      "name": "python",
      "nbconvert_exporter": "python",
      "pygments_lexer": "ipython3",
      "version": "3.8.8"
    },
    "colab": {
      "name": "exceptions.ipynb",
      "provenance": [],
      "include_colab_link": true
    }
  },
  "nbformat": 4,
  "nbformat_minor": 5
}