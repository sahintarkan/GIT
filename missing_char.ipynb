{
  "nbformat": 4,
  "nbformat_minor": 0,
  "metadata": {
    "colab": {
      "name": "missing-char.ipynb",
      "provenance": [],
      "authorship_tag": "ABX9TyNIuEz9/rTmCDj/kyrVwhzj",
      "include_colab_link": true
    },
    "kernelspec": {
      "name": "python3",
      "display_name": "Python 3"
    },
    "language_info": {
      "name": "python"
    }
  },
  "cells": [
    {
      "cell_type": "markdown",
      "metadata": {
        "id": "view-in-github",
        "colab_type": "text"
      },
      "source": [
        "<a href=\"https://colab.research.google.com/github/sahintarkan/GIT/blob/main/missing_char.ipynb\" target=\"_parent\"><img src=\"https://colab.research.google.com/assets/colab-badge.svg\" alt=\"Open In Colab\"/></a>"
      ]
    },
    {
      "cell_type": "code",
      "execution_count": 2,
      "metadata": {
        "colab": {
          "base_uri": "https://localhost:8080/"
        },
        "id": "xvXgg5x03qGp",
        "outputId": "683fd096-5572-4767-cc3b-ecda736ba860"
      },
      "outputs": [
        {
          "output_type": "stream",
          "name": "stdout",
          "text": [
            "ilise\n"
          ]
        }
      ],
      "source": [
        "def cikar (s,n):\n",
        "  \n",
        "  s= s[:n] + s[n+1:]\n",
        "\n",
        "  return s\n",
        " \n",
        " \n",
        "print(cikar (\"kilise\" , 0))"
      ]
    }
  ]
}